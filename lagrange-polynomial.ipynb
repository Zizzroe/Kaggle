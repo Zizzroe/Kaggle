{
 "cells": [
  {
   "cell_type": "code",
   "execution_count": 1,
   "id": "f3044e08",
   "metadata": {
    "_cell_guid": "b1076dfc-b9ad-4769-8c92-a6c4dae69d19",
    "_uuid": "8f2839f25d086af736a60e9eeb907d3b93b6e0e5",
    "execution": {
     "iopub.execute_input": "2024-02-27T13:51:31.915974Z",
     "iopub.status.busy": "2024-02-27T13:51:31.915276Z",
     "iopub.status.idle": "2024-02-27T13:51:31.933921Z",
     "shell.execute_reply": "2024-02-27T13:51:31.932759Z"
    },
    "papermill": {
     "duration": 0.02682,
     "end_time": "2024-02-27T13:51:31.936367",
     "exception": false,
     "start_time": "2024-02-27T13:51:31.909547",
     "status": "completed"
    },
    "tags": []
   },
   "outputs": [
    {
     "name": "stdout",
     "output_type": "stream",
     "text": [
      "X:  0 Y:  -1.7694343154167935\n",
      "X:  1 Y:  0.03\n",
      "X:  2 Y:  1.56\n",
      "X:  3 Y:  1.0\n",
      "X:  4 Y:  1.0\n",
      "X:  5 Y:  8.680565684583208\n",
      "X:  6 Y:  35.632828422916035\n",
      "X:  7 Y:  97.91848526874811\n",
      "X:  8 Y:  216.06979896041224\n",
      "X:  9 Y:  415.0895979208244\n"
     ]
    }
   ],
   "source": [
    "import math\n",
    "import numpy as np\n",
    "\n",
    "#basics of a lagrange polynomial -> put data in, get a function out\n",
    "\n",
    "x_values = [-0.7, 2, 1, 3, 4] #store x values, random sample data,  change to your needs\n",
    "y_values = [0.58, 1.56, 0.03, 1, 1] #store y values, random sample data, change to your needs\n",
    "\n",
    "def lagrange_zero(x, index):\n",
    "    lower_bound = 0  # Start from 0 instead of 1\n",
    "    upper_bound = len(x_values)\n",
    "    product = 1\n",
    "    for n in range(lower_bound, upper_bound):\n",
    "        if n == index:  # Change condition to check for index instead of 1\n",
    "            continue  # Skip this iteration to avoid division by zero\n",
    "        product *= (x - x_values[n]) / (x_values[index] - x_values[n])\n",
    "    return product\n",
    "        \n",
    "def lagrange_poly(x):\n",
    "    sum = 0\n",
    "    lower_bound = 1\n",
    "    upper_bound = len(x_values)\n",
    "    for n in range(lower_bound, upper_bound):\n",
    "        sum+= y_values[n] * lagrange_zero(x, n)\n",
    "    return sum\n",
    "\n",
    "for x in range(0, 10):\n",
    "    print(\"X: \", x , \"Y: \" , lagrange_poly(x))"
   ]
  },
  {
   "cell_type": "code",
   "execution_count": null,
   "id": "a62792a7",
   "metadata": {
    "papermill": {
     "duration": 0.001795,
     "end_time": "2024-02-27T13:51:31.940552",
     "exception": false,
     "start_time": "2024-02-27T13:51:31.938757",
     "status": "completed"
    },
    "tags": []
   },
   "outputs": [],
   "source": []
  }
 ],
 "metadata": {
  "kaggle": {
   "accelerator": "none",
   "dataSources": [],
   "dockerImageVersionId": 30646,
   "isGpuEnabled": false,
   "isInternetEnabled": false,
   "language": "python",
   "sourceType": "notebook"
  },
  "kernelspec": {
   "display_name": "Python 3",
   "language": "python",
   "name": "python3"
  },
  "language_info": {
   "codemirror_mode": {
    "name": "ipython",
    "version": 3
   },
   "file_extension": ".py",
   "mimetype": "text/x-python",
   "name": "python",
   "nbconvert_exporter": "python",
   "pygments_lexer": "ipython3",
   "version": "3.10.13"
  },
  "papermill": {
   "default_parameters": {},
   "duration": 3.481939,
   "end_time": "2024-02-27T13:51:32.362600",
   "environment_variables": {},
   "exception": null,
   "input_path": "__notebook__.ipynb",
   "output_path": "__notebook__.ipynb",
   "parameters": {},
   "start_time": "2024-02-27T13:51:28.880661",
   "version": "2.5.0"
  }
 },
 "nbformat": 4,
 "nbformat_minor": 5
}
