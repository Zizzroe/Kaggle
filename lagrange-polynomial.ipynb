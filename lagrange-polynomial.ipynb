{
 "cells": [
  {
   "cell_type": "code",
   "execution_count": 1,
   "id": "030f7d0d",
   "metadata": {
    "_cell_guid": "b1076dfc-b9ad-4769-8c92-a6c4dae69d19",
    "_uuid": "8f2839f25d086af736a60e9eeb907d3b93b6e0e5",
    "execution": {
     "iopub.execute_input": "2024-02-27T01:06:17.846010Z",
     "iopub.status.busy": "2024-02-27T01:06:17.845290Z",
     "iopub.status.idle": "2024-02-27T01:06:17.858480Z",
     "shell.execute_reply": "2024-02-27T01:06:17.857427Z"
    },
    "papermill": {
     "duration": 0.019012,
     "end_time": "2024-02-27T01:06:17.860691",
     "exception": false,
     "start_time": "2024-02-27T01:06:17.841679",
     "status": "completed"
    },
    "tags": []
   },
   "outputs": [
    {
     "name": "stdout",
     "output_type": "stream",
     "text": [
      "-1.7694343154167935\n",
      "0.03\n",
      "1.56\n",
      "1.0\n",
      "1.0\n",
      "8.680565684583208\n",
      "35.632828422916035\n",
      "97.91848526874811\n",
      "216.06979896041224\n",
      "415.0895979208244\n"
     ]
    }
   ],
   "source": [
    "import math\n",
    "import numpy as np\n",
    "\n",
    "#basics of a lagrange polynomial -> put data in, get a function out\n",
    "\n",
    "x_values = [-0.7, 2, 1, 3, 4] #store x values, random sample data,  change to your needs\n",
    "y_values = [0.58, 1.56, 0.03, 1, 1] #store y values, random sample data, change to your needs\n",
    "\n",
    "def lagrange_zero(x, index):\n",
    "    lower_bound = 0  # Start from 0 instead of 1\n",
    "    upper_bound = len(x_values)\n",
    "    product = 1\n",
    "    for n in range(lower_bound, upper_bound):\n",
    "        if n == index:  # Change condition to check for index instead of 1\n",
    "            continue  # Skip this iteration to avoid division by zero\n",
    "        product *= (x - x_values[n]) / (x_values[index] - x_values[n])\n",
    "    return product\n",
    "        \n",
    "def lagrange_poly(x):\n",
    "    sum = 0\n",
    "    lower_bound = 1\n",
    "    upper_bound = len(x_values)\n",
    "    for n in range(lower_bound, upper_bound):\n",
    "        sum+= y_values[n] * lagrange_zero(x, n)\n",
    "    return sum\n",
    "\n",
    "for x in range(0, 10):\n",
    "    print(lagrange_poly(x))"
   ]
  },
  {
   "cell_type": "code",
   "execution_count": null,
   "id": "95f32ea2",
   "metadata": {
    "papermill": {
     "duration": 0.001239,
     "end_time": "2024-02-27T01:06:17.863736",
     "exception": false,
     "start_time": "2024-02-27T01:06:17.862497",
     "status": "completed"
    },
    "tags": []
   },
   "outputs": [],
   "source": []
  }
 ],
 "metadata": {
  "kaggle": {
   "accelerator": "none",
   "dataSources": [],
   "dockerImageVersionId": 30646,
   "isGpuEnabled": false,
   "isInternetEnabled": false,
   "language": "python",
   "sourceType": "notebook"
  },
  "kernelspec": {
   "display_name": "Python 3",
   "language": "python",
   "name": "python3"
  },
  "language_info": {
   "codemirror_mode": {
    "name": "ipython",
    "version": 3
   },
   "file_extension": ".py",
   "mimetype": "text/x-python",
   "name": "python",
   "nbconvert_exporter": "python",
   "pygments_lexer": "ipython3",
   "version": "3.10.13"
  },
  "papermill": {
   "default_parameters": {},
   "duration": 3.069026,
   "end_time": "2024-02-27T01:06:18.286437",
   "environment_variables": {},
   "exception": null,
   "input_path": "__notebook__.ipynb",
   "output_path": "__notebook__.ipynb",
   "parameters": {},
   "start_time": "2024-02-27T01:06:15.217411",
   "version": "2.5.0"
  }
 },
 "nbformat": 4,
 "nbformat_minor": 5
}
